{
 "cells": [
  {
   "cell_type": "code",
   "execution_count": 137,
   "outputs": [
    {
     "data": {
      "text/plain": "{'h': 15.0, 'k': 20.0}"
     },
     "execution_count": 137,
     "metadata": {},
     "output_type": "execute_result"
    }
   ],
   "source": [
    "from collections import defaultdict\n",
    "import numpy as np\n",
    "import json\n",
    "def average_city_temps():\n",
    "    d = defaultdict(list)\n",
    "    while True:\n",
    "        enter = input('Enter name and Temperature of the city:').strip()\n",
    "        if not enter:\n",
    "            break\n",
    "        else:\n",
    "            cityweather  = enter.split(' ')\n",
    "            if len(cityweather) == 1:\n",
    "                return 'No whitespace'\n",
    "            elif not cityweather[-1].isdigit():\n",
    "                return 'not a valid temperature'\n",
    "            elif cityweather[-1].isdigit():\n",
    "                key = ' '.join(cityweather[0:-1])\n",
    "                value = cityweather[-1]\n",
    "                d[key].append(int(cityweather[-1]))\n",
    "\n",
    "\n",
    "                # r = {k: (sum(v) / len(v)) for k,v in d.items() }\n",
    "\n",
    "\n",
    "    r = {k: (sum(v)/len(v)) for k,v in d.items()}\n",
    "    return r\n",
    "\n",
    "average_city_temps()\n"
   ],
   "metadata": {
    "collapsed": false,
    "pycharm": {
     "name": "#%%\n"
    }
   }
  },
  {
   "cell_type": "code",
   "execution_count": 160,
   "metadata": {
    "collapsed": true,
    "pycharm": {
     "name": "#%%\n"
    }
   },
   "outputs": [
    {
     "name": "stdout",
     "output_type": "stream",
     "text": [
      "No whitespace\n"
     ]
    }
   ],
   "source": [
    "from collections import defaultdict\n",
    "\n",
    "def average_city_temps():\n",
    "    d = defaultdict(list)\n",
    "    while True:\n",
    "        enter = input('Enter name and temperature of the city:').strip()\n",
    "        if not enter:\n",
    "            break\n",
    "        else:\n",
    "            cityweather = enter.split(' ')\n",
    "            if len(cityweather) == 1:\n",
    "                print (f'No whitespace')\n",
    "                break\n",
    "            elif not cityweather[-1].isdigit():\n",
    "                print (f'not a valid temperature')\n",
    "                break\n",
    "            elif cityweather[-1].isdigit():\n",
    "                key = ' '.join(cityweather[0:-1])\n",
    "                value = cityweather[-1]\n",
    "                d[key].append(int(cityweather[-1]))\n",
    "    r = {k: (sum(v)/len(v)) for k,v in d.items()}\n",
    "    return r\n",
    "\n",
    "if __name__ == \"__main__\":\n",
    "    average_city_temps()\n",
    "\n"
   ]
  }
 ],
 "metadata": {
  "kernelspec": {
   "display_name": "Python 3",
   "language": "python",
   "name": "python3"
  },
  "language_info": {
   "codemirror_mode": {
    "name": "ipython",
    "version": 2
   },
   "file_extension": ".py",
   "mimetype": "text/x-python",
   "name": "python",
   "nbconvert_exporter": "python",
   "pygments_lexer": "ipython2",
   "version": "2.7.6"
  }
 },
 "nbformat": 4,
 "nbformat_minor": 0
}